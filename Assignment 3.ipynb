{
 "cells": [
  {
   "cell_type": "markdown",
   "id": "92778525",
   "metadata": {},
   "source": [
    "# Assignment 3: Non-Linear Models and Validation Metrics (37 total marks)\n",
    "### Due: October 24 at 11:59pm\n",
    "\n",
    "### Name: Yene Irvine\n"
   ]
  },
  {
   "cell_type": "markdown",
   "id": "ce31b39a",
   "metadata": {},
   "source": [
    "### In this assignment, you will need to write code that uses non-linear models to perform classification and regression tasks. You will also be asked to describe the process by which you came up with the code. More details can be found below. Please cite any websites or AI tools that you used to help you with this assignment."
   ]
  },
  {
   "cell_type": "markdown",
   "id": "cf275ca7",
   "metadata": {},
   "source": [
    "### Import Libraries"
   ]
  },
  {
   "cell_type": "code",
   "execution_count": 1,
   "id": "2b67a661",
   "metadata": {},
   "outputs": [],
   "source": [
    "import numpy as np\n",
    "import pandas as pd\n",
    "import matplotlib.pyplot as plt\n",
    "import seaborn as sns"
   ]
  },
  {
   "cell_type": "markdown",
   "id": "5ee2d2c3",
   "metadata": {},
   "source": [
    "## Part 1: Regression (14.5 marks)\n",
    "\n",
    "For this section, we will be continuing with the concrete example from yellowbrick. You will need to compare these results to the results from the previous assignment. Please use the results from the solution if you were unable to complete Assignment 2"
   ]
  },
  {
   "cell_type": "markdown",
   "id": "8219f163",
   "metadata": {},
   "source": [
    "### Step 1: Data Input (0.5 marks)\n",
    "\n",
    "The data used for this task can be downloaded using the yellowbrick library: \n",
    "https://www.scikit-yb.org/en/latest/api/datasets/concrete.html\n",
    "\n",
    "Use the yellowbrick function `load_concrete()` to load the concrete dataset into the feature matrix `X` and target vector `y`."
   ]
  },
  {
   "cell_type": "code",
   "execution_count": 3,
   "id": "2af8bd32",
   "metadata": {},
   "outputs": [],
   "source": [
    "# TO DO: Import concrete dataset from yellowbrick library\n",
    "# Importing required library\n",
    "from yellowbrick.datasets import load_concrete\n",
    "\n",
    "# Loading the dataset\n",
    "X, y = load_concrete()\n",
    "\n",
    "\n"
   ]
  },
  {
   "cell_type": "markdown",
   "id": "42fea4cc",
   "metadata": {},
   "source": [
    "### Step 2: Data Processing (0 marks)\n",
    "\n",
    "Data processing was completed in the previous assignment. No need to repeat here."
   ]
  },
  {
   "cell_type": "markdown",
   "id": "2a245d00",
   "metadata": {},
   "source": [
    "### Step 3: Implement Machine Learning Model\n",
    "\n",
    "1. Import the Decision Tree, Random Forest and Gradient Boosting Machines regression models from sklearn\n",
    "\n",
    "2. Instantiate the three models with `max_depth = 5`. Are there any other parameters that you will need to set?\n",
    "\n",
    "3. Implement each machine learning model with `X` and `y`"
   ]
  },
  {
   "cell_type": "code",
   "execution_count": 7,
   "id": "b8014778",
   "metadata": {},
   "outputs": [
    {
     "data": {
      "text/html": [
       "<style>#sk-container-id-2 {color: black;}#sk-container-id-2 pre{padding: 0;}#sk-container-id-2 div.sk-toggleable {background-color: white;}#sk-container-id-2 label.sk-toggleable__label {cursor: pointer;display: block;width: 100%;margin-bottom: 0;padding: 0.3em;box-sizing: border-box;text-align: center;}#sk-container-id-2 label.sk-toggleable__label-arrow:before {content: \"▸\";float: left;margin-right: 0.25em;color: #696969;}#sk-container-id-2 label.sk-toggleable__label-arrow:hover:before {color: black;}#sk-container-id-2 div.sk-estimator:hover label.sk-toggleable__label-arrow:before {color: black;}#sk-container-id-2 div.sk-toggleable__content {max-height: 0;max-width: 0;overflow: hidden;text-align: left;background-color: #f0f8ff;}#sk-container-id-2 div.sk-toggleable__content pre {margin: 0.2em;color: black;border-radius: 0.25em;background-color: #f0f8ff;}#sk-container-id-2 input.sk-toggleable__control:checked~div.sk-toggleable__content {max-height: 200px;max-width: 100%;overflow: auto;}#sk-container-id-2 input.sk-toggleable__control:checked~label.sk-toggleable__label-arrow:before {content: \"▾\";}#sk-container-id-2 div.sk-estimator input.sk-toggleable__control:checked~label.sk-toggleable__label {background-color: #d4ebff;}#sk-container-id-2 div.sk-label input.sk-toggleable__control:checked~label.sk-toggleable__label {background-color: #d4ebff;}#sk-container-id-2 input.sk-hidden--visually {border: 0;clip: rect(1px 1px 1px 1px);clip: rect(1px, 1px, 1px, 1px);height: 1px;margin: -1px;overflow: hidden;padding: 0;position: absolute;width: 1px;}#sk-container-id-2 div.sk-estimator {font-family: monospace;background-color: #f0f8ff;border: 1px dotted black;border-radius: 0.25em;box-sizing: border-box;margin-bottom: 0.5em;}#sk-container-id-2 div.sk-estimator:hover {background-color: #d4ebff;}#sk-container-id-2 div.sk-parallel-item::after {content: \"\";width: 100%;border-bottom: 1px solid gray;flex-grow: 1;}#sk-container-id-2 div.sk-label:hover label.sk-toggleable__label {background-color: #d4ebff;}#sk-container-id-2 div.sk-serial::before {content: \"\";position: absolute;border-left: 1px solid gray;box-sizing: border-box;top: 0;bottom: 0;left: 50%;z-index: 0;}#sk-container-id-2 div.sk-serial {display: flex;flex-direction: column;align-items: center;background-color: white;padding-right: 0.2em;padding-left: 0.2em;position: relative;}#sk-container-id-2 div.sk-item {position: relative;z-index: 1;}#sk-container-id-2 div.sk-parallel {display: flex;align-items: stretch;justify-content: center;background-color: white;position: relative;}#sk-container-id-2 div.sk-item::before, #sk-container-id-2 div.sk-parallel-item::before {content: \"\";position: absolute;border-left: 1px solid gray;box-sizing: border-box;top: 0;bottom: 0;left: 50%;z-index: -1;}#sk-container-id-2 div.sk-parallel-item {display: flex;flex-direction: column;z-index: 1;position: relative;background-color: white;}#sk-container-id-2 div.sk-parallel-item:first-child::after {align-self: flex-end;width: 50%;}#sk-container-id-2 div.sk-parallel-item:last-child::after {align-self: flex-start;width: 50%;}#sk-container-id-2 div.sk-parallel-item:only-child::after {width: 0;}#sk-container-id-2 div.sk-dashed-wrapped {border: 1px dashed gray;margin: 0 0.4em 0.5em 0.4em;box-sizing: border-box;padding-bottom: 0.4em;background-color: white;}#sk-container-id-2 div.sk-label label {font-family: monospace;font-weight: bold;display: inline-block;line-height: 1.2em;}#sk-container-id-2 div.sk-label-container {text-align: center;}#sk-container-id-2 div.sk-container {/* jupyter's `normalize.less` sets `[hidden] { display: none; }` but bootstrap.min.css set `[hidden] { display: none !important; }` so we also need the `!important` here to be able to override the default hidden behavior on the sphinx rendered scikit-learn.org. See: https://github.com/scikit-learn/scikit-learn/issues/21755 */display: inline-block !important;position: relative;}#sk-container-id-2 div.sk-text-repr-fallback {display: none;}</style><div id=\"sk-container-id-2\" class=\"sk-top-container\"><div class=\"sk-text-repr-fallback\"><pre>GradientBoostingRegressor(max_depth=5)</pre><b>In a Jupyter environment, please rerun this cell to show the HTML representation or trust the notebook. <br />On GitHub, the HTML representation is unable to render, please try loading this page with nbviewer.org.</b></div><div class=\"sk-container\" hidden><div class=\"sk-item\"><div class=\"sk-estimator sk-toggleable\"><input class=\"sk-toggleable__control sk-hidden--visually\" id=\"sk-estimator-id-2\" type=\"checkbox\" checked><label for=\"sk-estimator-id-2\" class=\"sk-toggleable__label sk-toggleable__label-arrow\">GradientBoostingRegressor</label><div class=\"sk-toggleable__content\"><pre>GradientBoostingRegressor(max_depth=5)</pre></div></div></div></div></div>"
      ],
      "text/plain": [
       "GradientBoostingRegressor(max_depth=5)"
      ]
     },
     "execution_count": 7,
     "metadata": {},
     "output_type": "execute_result"
    }
   ],
   "source": [
    "# 1. Import the Decision Tree, Random Forest and Gradient Boosting Machines regression models from sklearn\n",
    "\n",
    "from sklearn.tree import DecisionTreeRegressor\n",
    "from sklearn.ensemble import RandomForestRegressor, GradientBoostingRegressor\n",
    "\n",
    "# 2. Instantiate the three models with `max_depth = 5`. Are there any other parameters that you will need to set?\n",
    "\n",
    "# Instantiate Decision Tree with max_depth=5\n",
    "decision_tree_model = DecisionTreeRegressor(max_depth=5)\n",
    "\n",
    "# Instantiate Random Forest with max_depth=5\n",
    "random_forest_model = RandomForestRegressor(max_depth=5, n_estimators=100)  \n",
    "\n",
    "# Instantiate Gradient Boosting with max_depth=5\n",
    "gradient_boosting_model = GradientBoostingRegressor(max_depth=5, n_estimators=100, learning_rate=0.1)\n",
    "\n",
    "# 3. Implement each machine learning model with `X` and `y`\n",
    "# Fitting the models\n",
    "decision_tree_model.fit(X, y)\n",
    "random_forest_model.fit(X, y)\n",
    "gradient_boosting_model.fit(X, y)"
   ]
  },
  {
   "cell_type": "markdown",
   "id": "3f994e31",
   "metadata": {},
   "source": [
    "### Step 4: Validate Model\n",
    "\n",
    "Calculate the average training and validation accuracy using mean squared error with cross-validation. To do this, you will need to set `scoring='neg_mean_squared_error'` in your `cross_validate` function and negate the results (multiply by -1)"
   ]
  },
  {
   "cell_type": "code",
   "execution_count": 8,
   "id": "232a74e3",
   "metadata": {},
   "outputs": [
    {
     "name": "stdout",
     "output_type": "stream",
     "text": [
      "Decision Tree MSE: 73.92986392437432\n",
      "Random Forest MSE: 47.234766549327965\n",
      "Gradient Boosting MSE: 23.554267550840727\n"
     ]
    }
   ],
   "source": [
    "# Additional imports\n",
    "from sklearn.model_selection import train_test_split, cross_val_score\n",
    "\n",
    "# Split data into training and validation sets\n",
    "X_train, X_test, y_train, y_test = train_test_split(X, y, test_size=0.2, random_state=0)\n",
    "\n",
    "# Instantiate models (assuming you've done this in Step 3)\n",
    "dt_model = DecisionTreeRegressor(max_depth=5)\n",
    "rf_model = RandomForestRegressor(max_depth=5, n_estimators=100)\n",
    "gb_model = GradientBoostingRegressor(max_depth=5, n_estimators=100, learning_rate=0.1)\n",
    "\n",
    "# Train models on training data\n",
    "dt_model.fit(X_train, y_train)\n",
    "rf_model.fit(X_train, y_train)\n",
    "gb_model.fit(X_train, y_train)\n",
    "\n",
    "# Calculate average MSE using cross-validation on training data for each model\n",
    "dt_mse = -cross_val_score(dt_model, X_train, y_train, cv=5, scoring='neg_mean_squared_error').mean()\n",
    "rf_mse = -cross_val_score(rf_model, X_train, y_train, cv=5, scoring='neg_mean_squared_error').mean()\n",
    "gb_mse = -cross_val_score(gb_model, X_train, y_train, cv=5, scoring='neg_mean_squared_error').mean()\n",
    "\n",
    "# Print results\n",
    "print(\"Decision Tree MSE:\", dt_mse)\n",
    "print(\"Random Forest MSE:\", rf_mse)\n",
    "print(\"Gradient Boosting MSE:\", gb_mse)\n"
   ]
  },
  {
   "cell_type": "markdown",
   "id": "5fc3f7a8",
   "metadata": {},
   "source": [
    "### Step 5: Visualize Results (4 marks)\n",
    "\n",
    "1. Create a pandas DataFrame `results` with columns: Training accuracy and Validation accuracy, and index: DT, RF and GB\n",
    "2. Add the accuracy results to the `results` DataFrame\n",
    "3. Print `results`"
   ]
  },
  {
   "cell_type": "code",
   "execution_count": 9,
   "id": "fdc93a78",
   "metadata": {},
   "outputs": [
    {
     "name": "stdout",
     "output_type": "stream",
     "text": [
      "    Training Accuracy  Validation Accuracy\n",
      "DT          73.929864           104.561851\n",
      "RF          47.234767            63.141885\n",
      "GB          23.554268            56.589484\n"
     ]
    }
   ],
   "source": [
    "# TO DO: ADD YOUR CODE HERE FOR STEPS 3-5\n",
    "# Note: for any random state parameters, you can use random_state = 0\n",
    "# HINT: USING A LOOP TO STORE THE DATA IN YOUR RESULTS DATAFRAME WILL BE MORE EFFICIENT\n",
    "\n",
    "# We already have the training MSEs. Let's get the validation MSEs.\n",
    "dt_val_mse = -cross_val_score(dt_model, X_test, y_test, cv=5, scoring='neg_mean_squared_error').mean()\n",
    "rf_val_mse = -cross_val_score(rf_model, X_test, y_test, cv=5, scoring='neg_mean_squared_error').mean()\n",
    "gb_val_mse = -cross_val_score(gb_model, X_test, y_test, cv=5, scoring='neg_mean_squared_error').mean()\n",
    "\n",
    "# Using a dictionary to efficiently gather results\n",
    "model_results = {\n",
    "    'DT': {'Training Accuracy': dt_mse, 'Validation Accuracy': dt_val_mse},\n",
    "    'RF': {'Training Accuracy': rf_mse, 'Validation Accuracy': rf_val_mse},\n",
    "    'GB': {'Training Accuracy': gb_mse, 'Validation Accuracy': gb_val_mse}\n",
    "}\n",
    "\n",
    "# Convert dictionary to DataFrame\n",
    "results = pd.DataFrame(model_results).T  # Transpose to get models as index\n",
    "\n",
    "# Print results\n",
    "print(results)\n"
   ]
  },
  {
   "cell_type": "markdown",
   "id": "31715a9d",
   "metadata": {},
   "source": [
    "Repeat the step above to print the R2 score instead of the mean-squared error. For this case, you can use `scoring='r2'`"
   ]
  },
  {
   "cell_type": "code",
   "execution_count": 10,
   "id": "83539f47",
   "metadata": {},
   "outputs": [
    {
     "name": "stdout",
     "output_type": "stream",
     "text": [
      "    Training R2  Validation R2\n",
      "DT     0.736280       0.575590\n",
      "RF     0.828980       0.754671\n",
      "GB     0.916258       0.782746\n"
     ]
    }
   ],
   "source": [
    "# TO DO: ADD YOUR CODE HERE\n",
    "from sklearn.model_selection import cross_val_score\n",
    "\n",
    "# Calculate R^2 for training data\n",
    "dt_r2_train = cross_val_score(dt_model, X_train, y_train, cv=5, scoring='r2').mean()\n",
    "rf_r2_train = cross_val_score(rf_model, X_train, y_train, cv=5, scoring='r2').mean()\n",
    "gb_r2_train = cross_val_score(gb_model, X_train, y_train, cv=5, scoring='r2').mean()\n",
    "\n",
    "# Calculate R^2 for validation data\n",
    "dt_r2_val = cross_val_score(dt_model, X_test, y_test, cv=5, scoring='r2').mean()\n",
    "rf_r2_val = cross_val_score(rf_model, X_test, y_test, cv=5, scoring='r2').mean()\n",
    "gb_r2_val = cross_val_score(gb_model, X_test, y_test, cv=5, scoring='r2').mean()\n",
    "\n",
    "# Using a dictionary to efficiently gather results\n",
    "r2_results = {\n",
    "    'DT': {'Training R2': dt_r2_train, 'Validation R2': dt_r2_val},\n",
    "    'RF': {'Training R2': rf_r2_train, 'Validation R2': rf_r2_val},\n",
    "    'GB': {'Training R2': gb_r2_train, 'Validation R2': gb_r2_val}\n",
    "}\n",
    "\n",
    "# Convert dictionary to DataFrame\n",
    "results_r2 = pd.DataFrame(r2_results).T  # Transpose to get models as index\n",
    "\n",
    "# Print R^2 results\n",
    "print(results_r2)\n"
   ]
  },
  {
   "cell_type": "markdown",
   "id": "a5257a98",
   "metadata": {},
   "source": [
    "### Questions (6 marks)\n",
    "\n",
    "1. How do these results compare to the results using a linear model in the previous assignment? Use values.\n",
    "\n",
    "\n",
    "MSE:\n",
    "\n",
    "Linear(previous assignment): Training MSE was 110.3 and Validation MSE was 95.65.\n",
    "DT: For Training, the MSE is 73.93, but it increases to 104.56 for Validation.\n",
    "RF: The Training MSE drops to 46.23 and continues to drop for Validation with 63.14.\n",
    "GB: The Training MSE reaches its lowest at 23.5542, and for Validation, it's 56.58.\n",
    "All the tree models have achieved a better fit on the training set than the linear model, as seen from the decreased training MSEs. On the validation side, RF and GB have outperformed the linear model, while DT struggled a bit.\n",
    "\n",
    "R2 Score:\n",
    "\n",
    "Linear (previous assignment): The Training and Validation R2 were 0.609 and 0.637 respectively.\n",
    "DT: Achieved a Training R2 of 0.736, but slipped to 0.576 on Validation.\n",
    "RF: Improved Training with an R2 of 0.829 and did well on Validation with 0.755.\n",
    "GB: Tops the list with Training R2 at 0.916 and Validation R2 at 0.783.\n",
    "Every tree model has bettered the training R^2 compared to the linear model. For validation, RF and GB models have gone past the linear model, but DT has taken a step back.\n",
    "\n",
    "\n",
    "2. Out of the models you tested, which model would you select for this dataset and why?\n",
    "Considering both our metrics, the Gradient Boosting (GB) model appears to be the best. It's demonstrating the best balance between understanding the training data and predicting  unseen data, as indicated by the highest R^2 and the lowest MSE values, especially on the training set.\n",
    "\n",
    "\n",
    "3. If you wanted to increase the accuracy of the tree-based models, what would you do? Provide two suggestions.\n",
    "\n",
    "To improve results, we could experiment with model settings/tuning parameters. Using techniques like GridSearchCV or RandomizedSearchCV, we could try different parameter combinations like n_estimators, max_depth, and so on.\n",
    "\n",
    "We could also dive deeper into our data and perhaps come up with new features, or adjust existing ones, to boost our model's understanding. This may involve tasks like standardizing data values, which can be especially beneficial for Gradient Boosting models."
   ]
  },
  {
   "cell_type": "markdown",
   "id": "37b238f4",
   "metadata": {},
   "source": [
    "### Process Description (4 marks)\n",
    "Please describe the process you used to create your code. Cite any websites or generative AI tools used. You can use the following questions as guidance:\n",
    "\n",
    "1. Where did you source your code?\n",
    "I referred to examples from the labs and previous lectures as well as the odd Google, referring the website https://www.geeksforgeeks.org/ at times.\n",
    "\n",
    "2. In what order did you complete the steps?\n",
    "I completed the steps chronologically through the Jupyter notebook.\n",
    "\n",
    "3. If you used generative AI, what prompts did you use? Did you need to modify the code at all? Why or why not?\n",
    "I used ChatGPT to debug at times when I encountered errors. It turned out I just had some syntax issues. \n",
    "\n",
    "4. Did you have any challenges? If yes, what were they? If not, what helped you to be successful?\n",
    "Honestly, not really. I cited the examples and use geeksforgeeks.org and that helped keep this relatively straightfroward. "
   ]
  },
  {
   "cell_type": "markdown",
   "id": "93097bfe",
   "metadata": {},
   "source": [
    "*DESCRIBE YOUR PROCESS HERE*"
   ]
  },
  {
   "cell_type": "markdown",
   "id": "f7c6de86",
   "metadata": {},
   "source": [
    "## Part 2: Classification (17.5 marks)\n",
    "\n",
    "You have been asked to develop code that can help the user classify different wine samples. Following the machine learning workflow described in class, write the relevant code in each of the steps below:"
   ]
  },
  {
   "cell_type": "markdown",
   "id": "5f9d33a8",
   "metadata": {},
   "source": [
    "### Step 1: Data Input (2 marks)\n",
    "\n",
    "The data used for this task can be downloaded from UCI: https://archive.ics.uci.edu/dataset/109/wine\n",
    "\n",
    "Use the pandas library to load the dataset. You must define the column headers if they are not included in the dataset \n",
    "\n",
    "You will need to split the dataset into feature matrix `X` and target vector `y`. Which column represents the target vector?\n",
    "\n",
    "Print the size and type of `X` and `y`"
   ]
  },
  {
   "cell_type": "code",
   "execution_count": 11,
   "id": "33583c67",
   "metadata": {},
   "outputs": [
    {
     "name": "stdout",
     "output_type": "stream",
     "text": [
      "Size of X: (178, 13)\n",
      "Type of X: <class 'pandas.core.frame.DataFrame'>\n",
      "\n",
      "Size of y: (178,)\n",
      "Type of y: <class 'pandas.core.series.Series'>\n"
     ]
    }
   ],
   "source": [
    "# TO DO: Import wine dataset\n",
    "import pandas as pd\n",
    "\n",
    "# Defining the column headers as they are not provided in the dataset\n",
    "column_headers = [\n",
    "    \"Class\", \"Alcohol\", \"Malic acid\", \"Ash\", \"Alcalinity of ash\", \"Magnesium\", \n",
    "    \"Total phenols\", \"Flavanoids\", \"Nonflavanoid phenols\", \"Proanthocyanins\", \n",
    "    \"Color intensity\", \"Hue\", \"OD280/OD315 of diluted wines\", \"Proline\"\n",
    "]\n",
    "\n",
    "# Loading the dataset\n",
    "url = \"https://archive.ics.uci.edu/ml/machine-learning-databases/wine/wine.data\"\n",
    "wine_data = pd.read_csv(url, header=None, names=column_headers)\n",
    "\n",
    "# Splitting the dataset into feature matrix 'X' and target vector 'y'\n",
    "X = wine_data.drop(\"Class\", axis=1)\n",
    "y = wine_data[\"Class\"]\n",
    "\n",
    "# Printing the size and type of 'X' and 'y'\n",
    "print(f\"Size of X: {X.shape}\")\n",
    "print(f\"Type of X: {type(X)}\")\n",
    "print(f\"\\nSize of y: {y.shape}\")\n",
    "print(f\"Type of y: {type(y)}\")\n"
   ]
  },
  {
   "cell_type": "markdown",
   "id": "156db208",
   "metadata": {},
   "source": [
    "### Step 2: Data Processing (1.5 marks)"
   ]
  },
  {
   "cell_type": "markdown",
   "id": "a28af110",
   "metadata": {},
   "source": [
    "Print the first five rows of the dataset to inspect:"
   ]
  },
  {
   "cell_type": "code",
   "execution_count": 17,
   "id": "ea266921",
   "metadata": {},
   "outputs": [
    {
     "name": "stdout",
     "output_type": "stream",
     "text": [
      "   Class  Alcohol  Malic acid   Ash  Alcalinity of ash  Magnesium  \\\n",
      "0      1    14.23        1.71  2.43               15.6        127   \n",
      "1      1    13.20        1.78  2.14               11.2        100   \n",
      "2      1    13.16        2.36  2.67               18.6        101   \n",
      "3      1    14.37        1.95  2.50               16.8        113   \n",
      "4      1    13.24        2.59  2.87               21.0        118   \n",
      "\n",
      "   Total phenols  Flavanoids  Nonflavanoid phenols  Proanthocyanins  \\\n",
      "0           2.80        3.06                  0.28             2.29   \n",
      "1           2.65        2.76                  0.26             1.28   \n",
      "2           2.80        3.24                  0.30             2.81   \n",
      "3           3.85        3.49                  0.24             2.18   \n",
      "4           2.80        2.69                  0.39             1.82   \n",
      "\n",
      "   Color intensity   Hue  OD280/OD315 of diluted wines  Proline  \n",
      "0             5.64  1.04                          3.92     1065  \n",
      "1             4.38  1.05                          3.40     1050  \n",
      "2             5.68  1.03                          3.17     1185  \n",
      "3             7.80  0.86                          3.45     1480  \n",
      "4             4.32  1.04                          2.93      735  \n"
     ]
    }
   ],
   "source": [
    "# TO DO: ADD YOUR CODE HERE\n",
    "# Printing the first five rows of the dataset\n",
    "print(wine_data.head())\n"
   ]
  },
  {
   "cell_type": "markdown",
   "id": "834fc8fe",
   "metadata": {},
   "source": [
    "Check to see if there are any missing values in the dataset. If necessary, select an appropriate method to fill-in the missing values"
   ]
  },
  {
   "cell_type": "code",
   "execution_count": 18,
   "id": "97c6e9dc",
   "metadata": {},
   "outputs": [
    {
     "name": "stdout",
     "output_type": "stream",
     "text": [
      "Class                           0\n",
      "Alcohol                         0\n",
      "Malic acid                      0\n",
      "Ash                             0\n",
      "Alcalinity of ash               0\n",
      "Magnesium                       0\n",
      "Total phenols                   0\n",
      "Flavanoids                      0\n",
      "Nonflavanoid phenols            0\n",
      "Proanthocyanins                 0\n",
      "Color intensity                 0\n",
      "Hue                             0\n",
      "OD280/OD315 of diluted wines    0\n",
      "Proline                         0\n",
      "dtype: int64\n"
     ]
    }
   ],
   "source": [
    "# TO DO: ADD YOUR CODE HERE\n",
    "# Checking for missing values in each column\n",
    "missing_values = wine_data.isnull().sum()\n",
    "print(missing_values)\n"
   ]
  },
  {
   "cell_type": "markdown",
   "id": "070956af",
   "metadata": {},
   "source": [
    "How many samples do we have of each type of wine?"
   ]
  },
  {
   "cell_type": "code",
   "execution_count": 19,
   "id": "b37a6fd9",
   "metadata": {},
   "outputs": [
    {
     "name": "stdout",
     "output_type": "stream",
     "text": [
      "Class\n",
      "2    71\n",
      "1    59\n",
      "3    48\n",
      "Name: count, dtype: int64\n"
     ]
    }
   ],
   "source": [
    "# TO DO: ADD YOUR CODE HERE\n",
    "# Count the number of samples for each wine type\n",
    "wine_counts = y.value_counts()\n",
    "print(wine_counts)\n"
   ]
  },
  {
   "cell_type": "markdown",
   "id": "70e6c46f",
   "metadata": {},
   "source": [
    "### Step 3: Implement Machine Learning Model\n",
    "\n",
    "1. Import `SVC` and `DecisionTreeClassifier` from sklearn\n",
    "2. Instantiate models as `SVC()` and `DecisionTreeClassifier(max_depth = 3)`\n",
    "3. Implement the machine learning model with `X` and `y`"
   ]
  },
  {
   "cell_type": "markdown",
   "id": "0870b0d2",
   "metadata": {},
   "source": [
    "### Step 4: Validate Model \n",
    "\n",
    "Calculate the average training and validation accuracy using `cross_validate` for the two different models listed in Step 3. For this case, use `scoring='accuracy'`"
   ]
  },
  {
   "cell_type": "markdown",
   "id": "bb0bbd83",
   "metadata": {},
   "source": [
    "### Step 5: Visualize Results (4 marks)\n",
    "\n",
    "#### Step 5.1: Compare Models\n",
    "1. Create a pandas DataFrame `results` with columns: Training accuracy and Validation accuracy\n",
    "2. Add the data size, training and validation accuracy for each dataset to the `results` DataFrame\n",
    "3. Print `results`"
   ]
  },
  {
   "cell_type": "code",
   "execution_count": 28,
   "id": "be4b5c0a",
   "metadata": {
    "scrolled": true
   },
   "outputs": [
    {
     "name": "stdout",
     "output_type": "stream",
     "text": [
      "              Training accuracy  Validation accuracy\n",
      "SVC                    0.703743             0.663492\n",
      "DecisionTree           0.976165             0.882063\n"
     ]
    }
   ],
   "source": [
    "# TO DO: ADD YOUR CODE HERE FOR STEPS 3-5\n",
    "# Note: for any random state parameters, you can use random_state = 0\n",
    "# HINT: USING A LOOP TO STORE THE DATA IN YOUR RESULTS DATAFRAME WILL BE MORE EFFICIENT\n",
    "\n",
    "# Step 3\n",
    "\n",
    "from sklearn.svm import SVC\n",
    "from sklearn.tree import DecisionTreeClassifier\n",
    "\n",
    "svc_model = SVC()\n",
    "dt_model = DecisionTreeClassifier(max_depth=3)\n",
    "\n",
    "svc_model.fit(X, y)\n",
    "dt_model.fit(X, y)\n",
    "\n",
    "# Step 4\n",
    "# Import necessary libraries for validation\n",
    "from sklearn.model_selection import cross_validate\n",
    "\n",
    "# List of models\n",
    "models = {\n",
    "    \"SVC\": svc_model,\n",
    "    \"DecisionTree\": dt_model\n",
    "}\n",
    "\n",
    "# Dictionary to store training and validation accuracies for each model\n",
    "accuracy_data = {}\n",
    "\n",
    "# Validate each model\n",
    "for name, model in models.items():\n",
    "    scores = cross_validate(model, X, y, cv=5, scoring='accuracy', return_train_score=True)\n",
    "    accuracy_data[name] = {\n",
    "        \"Training accuracy\": scores['train_score'].mean(),\n",
    "        \"Validation accuracy\": scores['test_score'].mean()\n",
    "    }\n",
    "\n",
    "    \n",
    "#Step 5\n",
    "\n",
    "# Convert accuracy_data dictionary to pandas DataFrame\n",
    "results = pd.DataFrame(accuracy_data).T  # The 'T' is for transpose, to have the model names as rows.\n",
    "\n",
    "# Print the results DataFrame\n",
    "print(results)\n"
   ]
  },
  {
   "cell_type": "markdown",
   "id": "f2e17878",
   "metadata": {},
   "source": [
    "#### Step 5.2: Visualize Classification Errors\n",
    "Which method gave the highest accuracy? Use this method to print the confusion matrix and classification report:"
   ]
  },
  {
   "cell_type": "code",
   "execution_count": 35,
   "id": "44b091a4",
   "metadata": {},
   "outputs": [],
   "source": [
    "from sklearn.model_selection import train_test_split\n",
    "\n",
    "# Splitting the data into training and test sets (70% train, 30% test)\n",
    "X_train, X_test, y_train, y_test = train_test_split(X, y, test_size=0.3, random_state=0)\n",
    "\n",
    "# Train the DecisionTree model using the training set\n",
    "best_model = DecisionTreeClassifier(max_depth=3, random_state=0)\n",
    "best_model.fit(X_train, y_train)\n",
    "\n",
    "# Making predictions on the test set\n",
    "y_pred = best_model.predict(X_test)\n"
   ]
  },
  {
   "cell_type": "code",
   "execution_count": 41,
   "id": "09d21b59",
   "metadata": {},
   "outputs": [
    {
     "data": {
      "image/png": "[encoded data removed]",
      "text/plain": [
       "<Figure size 1000x700 with 2 Axes>"
      ]
     },
     "metadata": {},
     "output_type": "display_data"
    }
   ],
   "source": [
    "# TO DO: Print confusion matrix using a heatmap\n",
    "\n",
    "from sklearn.metrics import confusion_matrix\n",
    "\n",
    "# Generate confusion matrix\n",
    "conf_mat = confusion_matrix(y_test, y_pred)\n",
    "\n",
    "# Visualize confusion matrix using heatmap\n",
    "plt.figure(figsize=(10,7))\n",
    "sns.heatmap(conf_mat, annot=True, cmap='Blues', fmt='g', xticklabels=y.unique(), yticklabels=y.unique())\n",
    "plt.xlabel('Predicted labels')\n",
    "plt.ylabel('True labels')\n",
    "plt.title('Confusion Matrix')\n",
    "plt.show()\n"
   ]
  },
  {
   "cell_type": "code",
   "execution_count": 47,
   "id": "5ef95947",
   "metadata": {},
   "outputs": [
    {
     "name": "stdout",
     "output_type": "stream",
     "text": [
      "              precision    recall  f1-score   support\n",
      "\n",
      "           1       1.00      0.89      0.94        19\n",
      "           2       0.91      0.95      0.93        22\n",
      "           3       0.93      1.00      0.96        13\n",
      "\n",
      "    accuracy                           0.94        54\n",
      "   macro avg       0.95      0.95      0.95        54\n",
      "weighted avg       0.95      0.94      0.94        54\n",
      "\n"
     ]
    }
   ],
   "source": [
    "# TO DO: Print classification report\n",
    "from sklearn.metrics import classification_report\n",
    "\n",
    "# Print classification report\n",
    "# Convert unique class numbers to strings\n",
    "target_names = [str(label) for label in y.unique()]\n",
    "print(classification_report(y_test, y_pred, target_names=target_names))\n"
   ]
  },
  {
   "cell_type": "markdown",
   "id": "bf319621",
   "metadata": {},
   "source": [
    "### Questions (6 marks)\n",
    "1. How do the training and validation accuracy change depending on the method used? Explain with values.\n",
    "The DecisionTree classifier appears to be a better model for this dataset based on both training and validation accuracy, scoring 0.976 and 0.882 respectively, compared to 0.704 training accuracy and 0.663 validation accuracy for SVC.  \n",
    "\n",
    "The discrepancy between the training and validation accuracies for the DecisionTree model seems to suggest potential overfitting. This discrepancy is not so significant for SVC.\n",
    "\n",
    "2. What are two reasons why the support vector machines model did not work as well as the tree-based model?\n",
    "Data Complexity: Decision trees are good at handling non-linear patterns and feature interactions, which may be present in the wine data. \n",
    "\n",
    "Feature Scaling: SVMs are sensitive to data scale, needing standardized features to work well. Decision trees are not sensitive to scaling. \n",
    "\n",
    "3. How many samples were incorrectly classified in step 5.2? \n",
    "3\n",
    "\n",
    "4. In this case, is maximizing precision or recall more important? Why?\n",
    "Precision is the ratio of true positive predictions to total predicted positives, which is important when the cost of false positives is high. On the other hand, recall determines the ratio of true positive predictions to all actual positives, making it essential when overlooking positive samples could lead to considerable consequences.  In this context, recall measures how many of the actual positive samples were correctly identified, so for the wine dataset, precision must be maximized."
   ]
  },
  {
   "cell_type": "markdown",
   "id": "664ff8ae",
   "metadata": {},
   "source": [
    "### Process Description (4 marks)\n",
    "Please describe the process you used to create your code. Cite any websites or generative AI tools used. You can use the following questions as guidance:\n",
    "1. Where did you source your code?\n",
    "Just like in Part 1, I referred to previous Labs and Lecture notes.\n",
    "\n",
    "1. In what order did you complete the steps?\n",
    "I completed them all chronologically through this notebook.\n",
    "\n",
    "1. If you used generative AI, what prompts did you use? Did you need to modify the code at all? Why or why not?\n",
    "I used ChatGPT to diagnose errors I kept encountering during Step 5 when trying to print the classification report and generate the confusion matrix.\n",
    "\n",
    "1. Did you have any challenges? If yes, what were they? If not, what helped you to be successful?\n",
    "No, only really the above ones where I kept encountering errors."
   ]
  },
  {
   "cell_type": "markdown",
   "id": "d0e837da",
   "metadata": {},
   "source": [
    "*DESCRIBE YOUR PROCESS HERE*"
   ]
  },
  {
   "cell_type": "markdown",
   "id": "4cd7358d",
   "metadata": {},
   "source": [
    "## Part 3: Observations/Interpretation (3 marks)\n",
    "\n",
    "Describe any pattern you see in the results. Relate your findings to what we discussed during lectures. Include data to justify your findings.\n",
    "\n",
    "\n",
    "*ADD YOUR FINDINGS HERE*\n",
    "As discussed in lectures, models with high training accuracy and significantly lower validation/test accuracy can be indicative of high variance / overfitting. In contrast, models that underperform both in training and validation might be in a high bias scenario, which is characterized as underfitting. In these results, the Decision Tree seems to lean more towards the high variance side (overfitting), whereas the SVC might be underfitting.\n",
    "\n",
    "Another observation with the wine dataset is that the macro average and weighted average values of precision, recall, and F1-score are all in the mid-90s, reiterating that the model's performance is consistent across the classes. Class 1 specifically had an impressive precision of 100%.\n"
   ]
  },
  {
   "cell_type": "markdown",
   "id": "cd97b6ac",
   "metadata": {},
   "source": [
    "## Part 4: Reflection (2 marks)\n",
    "Include a sentence or two about:\n",
    "- what you liked or disliked,\n",
    "- found interesting, confusing, challangeing, motivating\n",
    "while working on this assignment.\n",
    "\n",
    "\n",
    "*ADD YOUR THOUGHTS HERE*\n",
    "\n",
    "It was satisfying to get a visual representation in the form of a confusion matrix at the end. There were challenging moments throughout the assignment, specifically in trying to get the syntax exactly right to prevent errors, but everything was relatively straightforward especially using the previous labs and lectures as a reference. At the end of the day, the content is relatively intuitive."
   ]
  },
  {
   "cell_type": "markdown",
   "id": "fa21e53b",
   "metadata": {},
   "source": [
    "## Part 5: Bonus Question (3 marks)\n",
    "\n",
    "Repeat Part 2 and compare the support vector machines model used to `LinearSVC(max_iter=5000)`. Does using `LinearSVC` improve the results? Why or why not?\n",
    "\n",
    "Is `LinearSVC` a good fit for this dataset? Why or why not?"
   ]
  },
  {
   "cell_type": "code",
   "execution_count": 1,
   "id": "30fea72e",
   "metadata": {},
   "outputs": [],
   "source": [
    "# TO DO: ADD YOUR CODE HERE"
   ]
  },
  {
   "cell_type": "markdown",
   "id": "aabc68a4",
   "metadata": {},
   "source": [
    "*ANSWER HERE*"
   ]
  },
  {
   "cell_type": "code",
   "execution_count": null,
   "id": "241c3b12",
   "metadata": {},
   "outputs": [],
   "source": []
  }
 ],
 "metadata": {
  "kernelspec": {
   "display_name": "Python 3 (ipykernel)",
   "language": "python",
   "name": "python3"
  },
  "language_info": {
   "codemirror_mode": {
    "name": "ipython",
    "version": 3
   },
   "file_extension": ".py",
   "mimetype": "text/x-python",
   "name": "python",
   "nbconvert_exporter": "python",
   "pygments_lexer": "ipython3",
   "version": "3.11.5"
  }
 },
 "nbformat": 4,
 "nbformat_minor": 5
}
